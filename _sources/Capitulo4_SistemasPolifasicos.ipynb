{
 "cells": [
  {
   "cell_type": "markdown",
   "metadata": {},
   "source": [
    "# Capítulo 4. Sistemas polifásicos\n",
    "\n",
    "Este es algún texto de ejemplo.\n",
    "\n",
    "\n",
    "\n",
    "```{table} El título de mi tabla\n",
    ":name: mi_tabla_referencia\n",
    "\n",
    "| Encabezado 1 | Encabezado 2 |\n",
    "|---|---|\n",
    "| 3 | 4 |\n",
    "```\n",
    "\n",
    "Es muy claro como se observa en la {numref}`mi_tabla_referencia`.\n",
    "\n",
    "```{math}\n",
    ":label: mi_ecuacion_referencia\n",
    "w_{t+1} = (1 + r_{t+1}) s(w_t) + y_{t+1}\n",
    "```\n",
    "\n",
    "Vea el resultado en Ecuación {eq}`mi_ecuacion_referencia`.\n",
    "\n",
    "Esta es otra prueba."
   ]
  },
  {
   "cell_type": "code",
   "execution_count": null,
   "metadata": {},
   "outputs": [],
   "source": []
  }
 ],
 "metadata": {
  "kernelspec": {
   "display_name": "Python 3.10.0 64-bit",
   "language": "python",
   "name": "python3"
  },
  "language_info": {
   "name": "python",
   "version": "3.10.0"
  },
  "orig_nbformat": 4,
  "vscode": {
   "interpreter": {
    "hash": "956945c4d179e0bc7075b9b95aec63dccb93bc4f3d6914856b29e4b2389f5448"
   }
  }
 },
 "nbformat": 4,
 "nbformat_minor": 2
}
