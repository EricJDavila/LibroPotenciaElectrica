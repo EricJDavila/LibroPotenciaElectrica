{
 "cells": [
  {
   "cell_type": "markdown",
   "metadata": {},
   "source": [
    "# Capítulo 2. Voltaje, Corriente y Potencia de corriente alterna\n",
    "\n",
    "El Voltaje también es llamado \"fuerza electromotriz\", indicando que es la presión que fuerza a los electrones a moverse. La corriente es el flujo de electrones.\n",
    "Se han desarrollado métodos robustos y fáciles de usar para manejar las cantidades senosoidales."
   ]
  },
  {
   "cell_type": "markdown",
   "metadata": {},
   "source": [
    "## 2.1. Fuentes y potencia\n",
    "\n",
    "### 2.1.1. Fuentes de voltaje y corriente\n",
    "\n",
    "Se asume una fuente ideal de voltaje constante, como la red eléctrica pública y una fuente de corriente ideal como una planta fotovoltaica, conectadas en paralelo, como se muestra en la {numref}`fuentes_voltaje_corriente_ref`.\n",
    "\n",
    ":::{figure-md} fuentes_voltaje_corriente_ref\n",
    "<img src=\"imagenes/fuentesVoltajeCorriente.jpg\" alt=\"fuentesVoltajeCorriente\" class=\"bg-primary mb-1\" width=\"400px\">\n",
    "\n",
    "Fuentes de Voltaje y de Corriente.\n",
    ":::\n",
    "\n",
    "Si ambas fuentes de voltaje y de corriente, son ondas sinosoidales con la misma frecuencia, ellas pueden ser representadas como se muestra en la Ecuación {eq}`voltaje_coseno_ref` y en la Ecuación {eq}`corriente_coseno_ref`:\n",
    "\n",
    "\n",
    "```{math}\n",
    ":label: voltaje_coseno_ref\n",
    "v = V \\cos \\omega t\n",
    "```\n",
    "\n",
    "```{math}\n",
    ":label: corriente_coseno_ref\n",
    "i = I \\cos (\\omega t - \\psi)\n",
    "```\n",
    "\n"
   ]
  },
  {
   "cell_type": "markdown",
   "metadata": {},
   "source": [
    "### 2.1.2. Potencia\n",
    "Note que las leyes de voltaje y de corriente de Kirchhoff (KVL y KIL), cuando se aplican aquí, especifican que el voltaje a través de la fuente de corriente y la corriente a través de la fuente de voltaje son espeficadas cada una por la otra fuente. Así que la potencia por fuera de la fuente de corriente es también la potencia dentro de la fuente de voltaje. Si el ángulo $\\psi$ es pequeño de forma que el voltaje y la corriente estén muy cerca de estar en fase, la dirección del flujo de potencia fluye de la guente de corriente a la fuente de voltaje. El flujo de potencia será el mostrado en la Ecuación {eq}`potencia_coseno_ref`:\n",
    "\n",
    "\n",
    "```{math}\n",
    ":label: potencia_coseno_ref\n",
    "p = vi = VI \\cos wt  \\cos (\\omega t - \\psi)\n",
    "```\n",
    "\n",
    "\n",
    "Ya que $\\cos a \\cos b = \\frac 1 2 \\cos (a - b) + \\frac 1 2 \\cos (a + b) $, entonces el flujo de potencia es el mostrado en la Ecuación {eq}`potencia_promedio_ref`.\n",
    "\n",
    "```{math}\n",
    ":label: potencia_promedio_ref\n",
    "p = \\frac {VI} 2 [\\cos\\psi + \\cos(2 \\omega t + \\psi)]\n",
    "```\n",
    "\n",
    "El flujo de potencia puede ser fácilmente visto como teniendo un valor promedio: $\\cos\\psi$ es cual es llamado el **factor de potencia**, y una variación con dos veces la frecuencia de línea.\n",
    "\n",
    "Es posible manejar las ondas sinosoidales de una manera directa usando la notación compleja.\n"
   ]
  },
  {
   "cell_type": "markdown",
   "metadata": {},
   "source": [
    "### 2.1.3. Sinosoidales en Estado Estacionario\n",
    "La clave para entender los sistemas sinosoidales en estados estacionarios es la relación de Euler:\n",
    "\n",
    "$ e^{jx}  = \\cos x + j \\sin x$\n",
    "\n",
    "Donde e es la base para los logaritmos comunes o neperianos, que es aproximadamente 2,718.\n",
    "\n",
    "De lo anterior viene:\n",
    "\n",
    "$ e^{jwt}  = \\cos wt + j \\sin wt$\n",
    "\n",
    "Y,\n",
    "\n",
    "$Re \\{e^{jwt}\\} = \\cos wt$\n",
    "\n",
    "Si un voltaje es una onda sinusoidal pura (es decir, sin componentes de CC ni transitorios), se puede describir como:\n",
    "\n",
    "$v(t) = V \\cos(\\omega t + \\phi) = Re \\{ V e^{j \\phi}  e^{j \\omega t} \\}$\n",
    "\n",
    "Un fasor se puede representar por:\n",
    "\n",
    "$\\mathbf{V} = V e^{j \\phi} $\n",
    "\n"
   ]
  },
  {
   "cell_type": "markdown",
   "metadata": {},
   "source": [
    "### 2.1.4 Notación de fasor\n",
    "Este voltaje sinusoidal se puede representar gráficamente como se muestra en la {numref}`fasor_voltaje_ref`. La magnitud de este “fasor”, V, es la longitud del vector, mientras que el ángulo de fase ϕ está representado por una rotación del vector alrededor de su origen. El valor instantáneo de la tensión es igual a la proyección sobre el eje horizontal de la punta de un vector que gira con velocidad angular ω que se encuentra en la posición del fasor de tensión en el instante t = 0.\n",
    "\n",
    "```{figure} imagenes/fasor_voltaje.jpg\n",
    "---\n",
    "height: 150px\n",
    "name: fasor_voltaje_ref\n",
    "---\n",
    "\n",
    "Fasor de voltaje.\n",
    "```\n",
    "\n",
    "Esta es una prueba de la construcción del libro en Español.\n"
   ]
  }
 ],
 "metadata": {
  "kernelspec": {
   "display_name": "Python 3.9.12 ('base')",
   "language": "python",
   "name": "python3"
  },
  "language_info": {
   "name": "python",
   "version": "3.9.12"
  },
  "orig_nbformat": 4,
  "vscode": {
   "interpreter": {
    "hash": "6ef3d5c7e38b83ce83c47390792005d39988e1ebb7bf2f58f567f819ea702123"
   }
  }
 },
 "nbformat": 4,
 "nbformat_minor": 2
}
